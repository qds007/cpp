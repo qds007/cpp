{
 "cells": [
  {
   "cell_type": "code",
   "execution_count": 252,
   "metadata": {
    "collapsed": false
   },
   "outputs": [],
   "source": [
    "from QuantLib import *"
   ]
  },
  {
   "cell_type": "code",
   "execution_count": 253,
   "metadata": {
    "collapsed": false
   },
   "outputs": [],
   "source": [
    "today = Date(19,August,2017)\n",
    "Settings.instance().evaluationDate=today"
   ]
  },
  {
   "cell_type": "code",
   "execution_count": 254,
   "metadata": {
    "collapsed": true
   },
   "outputs": [],
   "source": [
    "option =EuropeanOption(PlainVanillaPayoff(Option.Call,100.0),EuropeanExercise(Date(24,September,2017)))"
   ]
  },
  {
   "cell_type": "code",
   "execution_count": 255,
   "metadata": {
    "collapsed": true
   },
   "outputs": [],
   "source": [
    "r= SimpleQuote(0.01)\n",
    "sigma= SimpleQuote(0.2)\n",
    "u=SimpleQuote(100)"
   ]
  },
  {
   "cell_type": "code",
   "execution_count": 256,
   "metadata": {
    "collapsed": false
   },
   "outputs": [],
   "source": [
    "rfCurve = FlatForward(0,TARGET(), QuoteHandle(r),Actual360())\n",
    "vol = BlackConstantVol(0,TARGET(),QuoteHandle(sigma),Actual360())"
   ]
  },
  {
   "cell_type": "code",
   "execution_count": 257,
   "metadata": {
    "collapsed": false
   },
   "outputs": [],
   "source": [
    "process = BlackScholesProcess(QuoteHandle(u),YieldTermStructureHandle(rfCurve),BlackVolTermStructureHandle(vol) )"
   ]
  },
  {
   "cell_type": "code",
   "execution_count": 258,
   "metadata": {
    "collapsed": true
   },
   "outputs": [],
   "source": [
    "engine=AnalyticEuropeanEngine(process)"
   ]
  },
  {
   "cell_type": "code",
   "execution_count": 259,
   "metadata": {
    "collapsed": false
   },
   "outputs": [],
   "source": [
    "option.setPricingEngine(engine)"
   ]
  },
  {
   "cell_type": "code",
   "execution_count": 260,
   "metadata": {
    "collapsed": false
   },
   "outputs": [
    {
     "name": "stdout",
     "output_type": "stream",
     "text": [
      "2.4980 0.5184 12.2472 0.0648 -13.4610\n"
     ]
    }
   ],
   "source": [
    "print('{0:.4f} {1:.4f} {2:.4f} {3:.4f} {4:.4f}'.format(option.NPV(),option.delta(), option.vega(),option.gamma(),option.theta()))"
   ]
  },
  {
   "cell_type": "markdown",
   "metadata": {},
   "source": [
    "Market Changes"
   ]
  },
  {
   "cell_type": "code",
   "execution_count": 261,
   "metadata": {
    "collapsed": true
   },
   "outputs": [],
   "source": [
    "u.setValue(95)"
   ]
  },
  {
   "cell_type": "code",
   "execution_count": 262,
   "metadata": {
    "collapsed": false
   },
   "outputs": [
    {
     "name": "stdout",
     "output_type": "stream",
     "text": [
      "0.6956 0.2152 8.5357 0.0501 -9.2353\n"
     ]
    }
   ],
   "source": [
    "print('{0:.4f} {1:.4f} {2:.4f} {3:.4f} {4:.4f}'.format(option.NPV(),option.delta(), option.vega(),option.gamma(),option.theta()))"
   ]
  },
  {
   "cell_type": "code",
   "execution_count": 263,
   "metadata": {
    "collapsed": false
   },
   "outputs": [],
   "source": [
    "%%capture\n",
    "%pylab inline --no-import-all\n",
    "import numpy\n",
    "import matplotlib.pyplot as plot\n",
    "from IPython.display import display"
   ]
  },
  {
   "cell_type": "code",
   "execution_count": 264,
   "metadata": {
    "collapsed": false
   },
   "outputs": [
    {
     "data": {
      "image/png": "[encoded data removed]",
      "text/plain": [
       "<matplotlib.figure.Figure at 0x243b0607668>"
      ]
     },
     "metadata": {},
     "output_type": "display_data"
    }
   ],
   "source": [
    "f, ax=plot.subplots()\n",
    "xs= numpy.linspace(80.0,120.0,400)\n",
    "ys=[]\n",
    "for x in xs:\n",
    "    u.setValue(x);\n",
    "    ys.append(option.NPV())\n",
    "ax.set_title(\"option Value\")\n",
    "_=ax.plot(xs,ys)"
   ]
  },
  {
   "cell_type": "code",
   "execution_count": 265,
   "metadata": {
    "collapsed": false
   },
   "outputs": [],
   "source": [
    "Settings.instance().evaluationDate=Date(14,September,2017)"
   ]
  },
  {
   "cell_type": "code",
   "execution_count": 266,
   "metadata": {
    "collapsed": false
   },
   "outputs": [
    {
     "name": "stdout",
     "output_type": "stream",
     "text": [
      "20.0278 1.0000 0.0000 0.0000 -0.9997\n"
     ]
    }
   ],
   "source": [
    "print('{0:.4f} {1:.4f} {2:.4f} {3:.4f} {4:.4f}'.format(option.NPV(),option.delta(), option.vega(),option.gamma(),option.theta()))"
   ]
  },
  {
   "cell_type": "code",
   "execution_count": 267,
   "metadata": {
    "collapsed": false
   },
   "outputs": [
    {
     "data": {
      "image/png": "[encoded data removed]",
      "text/plain": [
       "<matplotlib.figure.Figure at 0x243b0607668>"
      ]
     },
     "metadata": {},
     "output_type": "display_data"
    }
   ],
   "source": [
    "ys=[]\n",
    "for x in xs:\n",
    "    u.setValue(x)\n",
    "    ys.append(option.NPV())\n",
    "ax.plot(xs,ys)\n",
    "display(f)  # f=fig object "
   ]
  },
  {
   "cell_type": "markdown",
   "metadata": {},
   "source": [
    "Heston Model"
   ]
  },
  {
   "cell_type": "code",
   "execution_count": 268,
   "metadata": {
    "collapsed": false
   },
   "outputs": [],
   "source": [
    "# dummy starting params\n",
    "v0=0.04; kappa=0.1;theta=0.01;sigma=0.05; rho=-0.75\n",
    "model =HestonModel(\n",
    "    HestonProcess(YieldTermStructureHandle(rfCurve), YieldTermStructureHandle(FlatForward(0,TARGET(),0.0,Actual360())),\n",
    "                  QuoteHandle(u), v0,kappa,theta,sigma,rho))"
   ]
  },
  {
   "cell_type": "code",
   "execution_count": 269,
   "metadata": {
    "collapsed": false
   },
   "outputs": [],
   "source": [
    "engine=AnalyticHestonEngine(model)\n",
    "option.setPricingEngine(engine)"
   ]
  },
  {
   "cell_type": "code",
   "execution_count": 270,
   "metadata": {
    "collapsed": false
   },
   "outputs": [
    {
     "name": "stdout",
     "output_type": "stream",
     "text": [
      "20.027773968568795\n"
     ]
    }
   ],
   "source": [
    "print(option.NPV())"
   ]
  },
  {
   "cell_type": "markdown",
   "metadata": {},
   "source": [
    "Monte-Carlo Engine"
   ]
  },
  {
   "cell_type": "code",
   "execution_count": 271,
   "metadata": {
    "collapsed": false
   },
   "outputs": [],
   "source": [
    "engineMC=MCEuropeanEngine(process,\"PseudoRandom\", timeSteps=20, requiredSamples=250000)\n",
    "option.setPricingEngine(engineMC)"
   ]
  },
  {
   "cell_type": "code",
   "execution_count": 272,
   "metadata": {
    "collapsed": false
   },
   "outputs": [],
   "source": [
    "Settings.instance().evaluationDate=today"
   ]
  },
  {
   "cell_type": "code",
   "execution_count": 277,
   "metadata": {
    "collapsed": false
   },
   "outputs": [
    {
     "name": "stdout",
     "output_type": "stream",
     "text": [
      "20.0822 \n"
     ]
    }
   ],
   "source": [
    "print('{0:.4f} '.format(option.NPV())) # MC cannot est greek, must use Fininte Difference"
   ]
  },
  {
   "cell_type": "code",
   "execution_count": null,
   "metadata": {
    "collapsed": true
   },
   "outputs": [],
   "source": []
  }
 ],
 "metadata": {
  "kernelspec": {
   "display_name": "Python 3",
   "language": "python",
   "name": "python3"
  },
  "language_info": {
   "codemirror_mode": {
    "name": "ipython",
    "version": 3
   },
   "file_extension": ".py",
   "mimetype": "text/x-python",
   "name": "python",
   "nbconvert_exporter": "python",
   "pygments_lexer": "ipython3",
   "version": "3.6.0"
  }
 },
 "nbformat": 4,
 "nbformat_minor": 2
}
