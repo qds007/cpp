{
 "cells": [
  {
   "cell_type": "code",
   "execution_count": 12,
   "metadata": {
    "collapsed": true
   },
   "outputs": [],
   "source": [
    "from QuantLib import *"
   ]
  },
  {
   "cell_type": "code",
   "execution_count": 13,
   "metadata": {
    "collapsed": false
   },
   "outputs": [],
   "source": [
    "%%capture \n",
    "%pylab inline --no-import-all\n",
    "import matplotlib.pyplot as plot"
   ]
  },
  {
   "cell_type": "code",
   "execution_count": 14,
   "metadata": {
    "collapsed": false
   },
   "outputs": [],
   "source": [
    "today=Date_todaysDate()"
   ]
  },
  {
   "cell_type": "code",
   "execution_count": 16,
   "metadata": {
    "collapsed": false
   },
   "outputs": [],
   "source": [
    "Settings.instance().evaluationDate=today"
   ]
  },
  {
   "cell_type": "code",
   "execution_count": 19,
   "metadata": {
    "collapsed": false
   },
   "outputs": [],
   "source": [
    "data=[(2,0.02), (3, 0.03) ,(5,0.05), (10,0.06), (15,0.07), (20 ,0.075), (30,0.08)]"
   ]
  },
  {
   "cell_type": "code",
   "execution_count": 30,
   "metadata": {
    "collapsed": false
   },
   "outputs": [],
   "source": [
    "calendar=TARGET()\n",
    "settle = calendar.advance(today, 3, Days)\n",
    "quotes=[]\n",
    "helpers=[]\n",
    "for len, c in data:\n",
    "    maturity=calendar.advance(settle,len,Years)\n",
    "    quote=SimpleQuote(100.0)\n",
    "    quotes.append(quote)\n",
    "    schedule=Schedule(settle,maturity, Period(Annual),calendar,\n",
    "                     ModifiedFollowing, ModifiedFollowing,\n",
    "                     DateGeneration.Backward, False)\n",
    "    helpers.append(FixedRateBondHelper(QuoteHandle(quote),3,100.0,\n",
    "                                       schedule,[c],SimpleDayCounter(),\n",
    "                                      ModifiedFollowing))"
   ]
  },
  {
   "cell_type": "code",
   "execution_count": 34,
   "metadata": {
    "collapsed": true
   },
   "outputs": [],
   "source": [
    "curve=FittedBondDiscountCurve(0,calendar,helpers,SimpleDayCounter(),\n",
    "                            NelsonSiegelFitting())"
   ]
  },
  {
   "cell_type": "code",
   "execution_count": 42,
   "metadata": {
    "collapsed": false
   },
   "outputs": [
    {
     "data": {
      "image/png": "[encoded data removed]",
      "text/plain": [
       "<matplotlib.figure.Figure at 0x293c5955240>"
      ]
     },
     "metadata": {},
     "output_type": "display_data"
    }
   ],
   "source": [
    "sample_times=numpy.linspace(0,30,301)\n",
    "sample_discounts=[curve.discount(t) for t in sample_times]\n",
    "f, ax = plot.subplots()\n",
    "ax.set_ylim(0.1,1.0)\n",
    "_=ax.plot(sample_times, sample_discounts)"
   ]
  },
  {
   "cell_type": "code",
   "execution_count": 47,
   "metadata": {
    "collapsed": false
   },
   "outputs": [],
   "source": [
    "schedule=Schedule(today,calendar.advance(today,15,Years),\n",
    "                  Period(Semiannual),calendar,\n",
    "                     ModifiedFollowing, ModifiedFollowing,\n",
    "                     DateGeneration.Backward, False)\n",
    "bond=FixedRateBond(3,100.0, schedule,[0.04],Actual360())"
   ]
  },
  {
   "cell_type": "code",
   "execution_count": 50,
   "metadata": {
    "collapsed": false
   },
   "outputs": [
    {
     "name": "stdout",
     "output_type": "stream",
     "text": [
      "71.3014608681334\n"
     ]
    }
   ],
   "source": [
    "bond.setPricingEngine(DiscountingBondEngine(YieldTermStructureHandle(curve)))\n",
    "print(bond.NPV())"
   ]
  },
  {
   "cell_type": "code",
   "execution_count": 57,
   "metadata": {
    "collapsed": false
   },
   "outputs": [],
   "source": [
    "prices=[]\n",
    "def print_npv():\n",
    "    p=bond.NPV()\n",
    "    prices.append(p)\n",
    "    print(p)"
   ]
  },
  {
   "cell_type": "code",
   "execution_count": 58,
   "metadata": {
    "collapsed": true
   },
   "outputs": [],
   "source": [
    "obsvr=Observer(print_npv) # def observer bond and its market price\n",
    "obsvr.registerWith(bond)"
   ]
  },
  {
   "cell_type": "code",
   "execution_count": 81,
   "metadata": {
    "collapsed": false
   },
   "outputs": [],
   "source": [
    "quotes[2].setValue(101.0); quotes[2].setValue(100.0)"
   ]
  },
  {
   "cell_type": "code",
   "execution_count": 80,
   "metadata": {
    "collapsed": false
   },
   "outputs": [],
   "source": [
    "prices=[]\n",
    "for q in quotes:\n",
    "    q.setValue(101.0)"
   ]
  },
  {
   "cell_type": "code",
   "execution_count": 76,
   "metadata": {
    "collapsed": false
   },
   "outputs": [
    {
     "data": {
      "image/png": "[encoded data removed]",
      "text/plain": [
       "<matplotlib.figure.Figure at 0x293c5ad18d0>"
      ]
     },
     "metadata": {},
     "output_type": "display_data"
    }
   ],
   "source": [
    "_=plt.plot(prices,'-')"
   ]
  },
  {
   "cell_type": "code",
   "execution_count": 79,
   "metadata": {
    "collapsed": false
   },
   "outputs": [],
   "source": [
    "bond.freeze(); bond.unfreeze()  # stop notification"
   ]
  },
  {
   "cell_type": "code",
   "execution_count": null,
   "metadata": {
    "collapsed": false
   },
   "outputs": [],
   "source": [
    "del obsvr"
   ]
  },
  {
   "cell_type": "code",
   "execution_count": null,
   "metadata": {
    "collapsed": true
   },
   "outputs": [],
   "source": []
  }
 ],
 "metadata": {
  "kernelspec": {
   "display_name": "Python 3",
   "language": "python",
   "name": "python3"
  },
  "language_info": {
   "codemirror_mode": {
    "name": "ipython",
    "version": 3
   },
   "file_extension": ".py",
   "mimetype": "text/x-python",
   "name": "python",
   "nbconvert_exporter": "python",
   "pygments_lexer": "ipython3",
   "version": "3.6.0"
  }
 },
 "nbformat": 4,
 "nbformat_minor": 2
}
